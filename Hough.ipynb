{
 "cells": [
  {
   "cell_type": "code",
   "execution_count": null,
   "metadata": {},
   "outputs": [],
   "source": [
    "# Devleoped by:- Sai Eswar Kandukuri\n",
    "# Registration number:- 212221240020\n",
    "# Read image and convert it to grayscale image\n",
    "\n",
    "import cv2\n",
    "import matplotlib.pyplot as plt\n",
    "import numpy as np\n",
    "image = cv2.imread(\"road.jpeg\")\n",
    "smoothImage = cv2.GaussianBlur(image,(3,3),0)\n",
    "plt.imshow(smoothImage)\n",
    "grayImage = cv2.cvtColor(image,cv2.COLOR_BGR2GRAY)\n",
    "cv2.imshow(\"Original Image\",image)\n",
    "cv2.imshow(\"Gray Image\",grayImage)\n",
    "\n",
    "\n",
    "\n",
    "\n",
    "# Find the edges in the image using canny detector and display\n",
    "\n",
    "cannyEdges = cv2.Canny(smoothImage,120,200)\n",
    "plt.imshow(cannyEdges,cmap='gray')\n",
    "plt.title('Edge Image')\n",
    "plt.xticks([])\n",
    "plt.yticks([])\n",
    "plt.show()\n",
    "\n",
    "# Detect points that form a line using HoughLinesP\n",
    "\n",
    "lines = cv2.HoughLinesP(cannyEdges,1,np.pi/180,threshold=80,minLineLength = 50,maxLineGap = 250)\n",
    "\n",
    "# Draw lines on the image\n",
    "\n",
    "for line in lines:\n",
    "    x1, y1, x2, y2 = line [0]\n",
    "    cv2.line(smoothImage,(x1, y1),(x2, y2),(255, 0, 0),3)\n",
    "\n",
    "# Display the result\n",
    "\n",
    "plt.title(\"Hough Transform\")\n",
    "plt.imshow(cannyEdges)\n",
    "plt.show()\n"
   ]
  }
 ],
 "metadata": {
  "language_info": {
   "name": "python"
  }
 },
 "nbformat": 4,
 "nbformat_minor": 5
}
